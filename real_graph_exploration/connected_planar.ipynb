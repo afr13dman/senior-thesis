{
 "cells": [
  {
   "cell_type": "code",
   "execution_count": null,
   "metadata": {},
   "outputs": [],
   "source": []
  },
  {
   "cell_type": "code",
   "execution_count": 2,
   "metadata": {},
   "outputs": [],
   "source": [
    "import pandas as pd"
   ]
  },
  {
   "cell_type": "markdown",
   "metadata": {},
   "source": [
    "Using `avg_median_degree.py`, I found whether the graph for each state at tract and block group level was connected and/or planar. Now I want to find how many graphs are connected and how amny are planar for each dataset level."
   ]
  },
  {
   "cell_type": "code",
   "execution_count": 3,
   "metadata": {},
   "outputs": [],
   "source": [
    "# Import track degree data\n",
    "t_deg_data = pd.read_csv(\"t_avg_median_deg.csv\")\n",
    "\n",
    "# Import block group degree data\n",
    "bg_deg_data = pd.read_csv(\"bg_avg_median_deg.csv\")"
   ]
  },
  {
   "cell_type": "code",
   "execution_count": 11,
   "metadata": {},
   "outputs": [],
   "source": [
    "t_per_con = t_deg_data[\"Connected\"].sum() / len(t_deg_data[\"Connected\"])\n",
    "t_per_plan = t_deg_data[\"Planar\"].sum() / len(t_deg_data[\"Planar\"])"
   ]
  },
  {
   "cell_type": "code",
   "execution_count": 12,
   "metadata": {},
   "outputs": [],
   "source": [
    "bg_per_con = bg_deg_data[\"Connected\"].sum() / len(bg_deg_data[\"Connected\"])\n",
    "bg_per_plan = bg_deg_data[\"Planar\"].sum() / len(bg_deg_data[\"Planar\"])"
   ]
  },
  {
   "cell_type": "code",
   "execution_count": 15,
   "metadata": {},
   "outputs": [],
   "source": [
    "overall_con = (t_deg_data[\"Connected\"].sum() + bg_deg_data[\"Connected\"].sum()) / (len(t_deg_data[\"Connected\"]) + len(bg_deg_data[\"Connected\"]))\n",
    "overall_plan =(t_deg_data[\"Planar\"].sum() + bg_deg_data[\"Planar\"].sum()) / (len(t_deg_data[\"Planar\"]) + len(bg_deg_data[\"Planar\"]))"
   ]
  },
  {
   "cell_type": "code",
   "execution_count": 16,
   "metadata": {},
   "outputs": [],
   "source": [
    "data = {'Map Type': [\"Census Tract\", \"Census Block Group\", \"Combined\"], \n",
    "        'Connected': [round(t_per_con, 2), round(bg_per_con, 2), round(overall_con, 2)],\n",
    "        'Planar': [round(t_per_plan, 2), round(bg_per_plan, 2), round(overall_plan, 2)]}\n",
    "df = pd.DataFrame(data)"
   ]
  },
  {
   "cell_type": "code",
   "execution_count": 17,
   "metadata": {},
   "outputs": [
    {
     "data": {
      "text/html": [
       "<div>\n",
       "<style scoped>\n",
       "    .dataframe tbody tr th:only-of-type {\n",
       "        vertical-align: middle;\n",
       "    }\n",
       "\n",
       "    .dataframe tbody tr th {\n",
       "        vertical-align: top;\n",
       "    }\n",
       "\n",
       "    .dataframe thead th {\n",
       "        text-align: right;\n",
       "    }\n",
       "</style>\n",
       "<table border=\"1\" class=\"dataframe\">\n",
       "  <thead>\n",
       "    <tr style=\"text-align: right;\">\n",
       "      <th></th>\n",
       "      <th>Map Type</th>\n",
       "      <th>Connected</th>\n",
       "      <th>Planar</th>\n",
       "    </tr>\n",
       "  </thead>\n",
       "  <tbody>\n",
       "    <tr>\n",
       "      <th>0</th>\n",
       "      <td>Census Tract</td>\n",
       "      <td>0.89</td>\n",
       "      <td>0.74</td>\n",
       "    </tr>\n",
       "    <tr>\n",
       "      <th>1</th>\n",
       "      <td>Census Block Group</td>\n",
       "      <td>0.89</td>\n",
       "      <td>0.70</td>\n",
       "    </tr>\n",
       "    <tr>\n",
       "      <th>2</th>\n",
       "      <td>Combined</td>\n",
       "      <td>0.89</td>\n",
       "      <td>0.72</td>\n",
       "    </tr>\n",
       "  </tbody>\n",
       "</table>\n",
       "</div>"
      ],
      "text/plain": [
       "             Map Type  Connected  Planar\n",
       "0        Census Tract       0.89    0.74\n",
       "1  Census Block Group       0.89    0.70\n",
       "2            Combined       0.89    0.72"
      ]
     },
     "execution_count": 17,
     "metadata": {},
     "output_type": "execute_result"
    }
   ],
   "source": [
    "df"
   ]
  }
 ],
 "metadata": {
  "kernelspec": {
   "display_name": "polidist",
   "language": "python",
   "name": "python3"
  },
  "language_info": {
   "codemirror_mode": {
    "name": "ipython",
    "version": 3
   },
   "file_extension": ".py",
   "mimetype": "text/x-python",
   "name": "python",
   "nbconvert_exporter": "python",
   "pygments_lexer": "ipython3",
   "version": "3.11.9"
  }
 },
 "nbformat": 4,
 "nbformat_minor": 2
}
