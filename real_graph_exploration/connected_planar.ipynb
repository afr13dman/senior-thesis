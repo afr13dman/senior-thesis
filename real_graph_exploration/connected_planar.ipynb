{
 "cells": [
  {
   "cell_type": "markdown",
   "metadata": {},
   "source": [
    "# Connectivity and Planarity\n",
    "\n",
    "This file computes the percentage of graphs that are connected and planar at both the census tract and census block group levels. These metrics help assess the structural properties of dual graphs derived from geographic data and are useful for evaluating how well different models capture real-world spatial connectivity and planarity."
   ]
  },
  {
   "cell_type": "code",
   "execution_count": 2,
   "metadata": {},
   "outputs": [],
   "source": [
    "# Import libraries\n",
    "import pandas as pd"
   ]
  },
  {
   "cell_type": "code",
   "execution_count": 3,
   "metadata": {},
   "outputs": [],
   "source": [
    "# Import track degree data\n",
    "t_deg_data = pd.read_csv(\"t_avg_median_deg.csv\")\n",
    "\n",
    "# Import block group degree data\n",
    "bg_deg_data = pd.read_csv(\"bg_avg_median_deg.csv\")"
   ]
  },
  {
   "cell_type": "markdown",
   "metadata": {},
   "source": [
    "Calculate the percent of graphs that are connected and planar at the census tract level, the census block group level, and overall across both"
   ]
  },
  {
   "cell_type": "code",
   "execution_count": 11,
   "metadata": {},
   "outputs": [],
   "source": [
    "t_per_con = t_deg_data[\"Connected\"].sum() / len(t_deg_data[\"Connected\"])\n",
    "t_per_plan = t_deg_data[\"Planar\"].sum() / len(t_deg_data[\"Planar\"])"
   ]
  },
  {
   "cell_type": "code",
   "execution_count": 12,
   "metadata": {},
   "outputs": [],
   "source": [
    "bg_per_con = bg_deg_data[\"Connected\"].sum() / len(bg_deg_data[\"Connected\"])\n",
    "bg_per_plan = bg_deg_data[\"Planar\"].sum() / len(bg_deg_data[\"Planar\"])"
   ]
  },
  {
   "cell_type": "code",
   "execution_count": 15,
   "metadata": {},
   "outputs": [],
   "source": [
    "overall_con = (t_deg_data[\"Connected\"].sum() + bg_deg_data[\"Connected\"].sum()) / (len(t_deg_data[\"Connected\"]) + len(bg_deg_data[\"Connected\"]))\n",
    "overall_plan =(t_deg_data[\"Planar\"].sum() + bg_deg_data[\"Planar\"].sum()) / (len(t_deg_data[\"Planar\"]) + len(bg_deg_data[\"Planar\"]))"
   ]
  },
  {
   "cell_type": "markdown",
   "metadata": {},
   "source": [
    "Create a dataset of these values."
   ]
  },
  {
   "cell_type": "code",
   "execution_count": 16,
   "metadata": {},
   "outputs": [],
   "source": [
    "data = {'Map Type': [\"Census Tract\", \"Census Block Group\", \"Combined\"], \n",
    "        'Connected': [round(t_per_con, 2), round(bg_per_con, 2), round(overall_con, 2)],\n",
    "        'Planar': [round(t_per_plan, 2), round(bg_per_plan, 2), round(overall_plan, 2)]}\n",
    "df = pd.DataFrame(data)\n",
    "df"
   ]
  }
 ],
 "metadata": {
  "kernelspec": {
   "display_name": "polidist",
   "language": "python",
   "name": "python3"
  },
  "language_info": {
   "codemirror_mode": {
    "name": "ipython",
    "version": 3
   },
   "file_extension": ".py",
   "mimetype": "text/x-python",
   "name": "python",
   "nbconvert_exporter": "python",
   "pygments_lexer": "ipython3",
   "version": "3.11.9"
  }
 },
 "nbformat": 4,
 "nbformat_minor": 2
}
