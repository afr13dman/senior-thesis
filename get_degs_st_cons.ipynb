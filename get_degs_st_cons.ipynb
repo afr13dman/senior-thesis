{
 "cells": [
  {
   "cell_type": "markdown",
   "metadata": {},
   "source": [
    "# Get Degree Values and Spanning Tree Constant Values for a Model\n",
    "\n",
    "This notebook is a streamlined version of `model_deg_investigation.ipynb`. Instead of analyzing the structure of all models, it focuses on a single model at a time. This allows users to quickly examine degree distributions and the average spanning tree constant, making it easier to fine-tune parameters and evaluate how changes impact key structural properties."
   ]
  },
  {
   "cell_type": "code",
   "execution_count": 2,
   "metadata": {},
   "outputs": [],
   "source": [
    "# Import Libraries\n",
    "import importlib\n",
    "import models\n",
    "importlib.reload(models)\n",
    "\n",
    "import pickle\n",
    "import networkx as nx\n",
    "import pandas as pd\n",
    "import matplotlib.pyplot as plt\n",
    "from statistics import median\n",
    "import numpy as np\n",
    "from numpy.linalg import slogdet"
   ]
  },
  {
   "cell_type": "code",
   "execution_count": 10,
   "metadata": {},
   "outputs": [],
   "source": [
    "# Define necessary command\n",
    "\n",
    "def max_degree(G):\n",
    "    # Initialize max_degree\n",
    "    max_degree = -1\n",
    "\n",
    "    # Iterate over all nodes and their degrees\n",
    "    for degree in G.degree():\n",
    "        if degree[1] > max_degree:\n",
    "            max_degree = degree[1]\n",
    "    \n",
    "    return max_degree"
   ]
  },
  {
   "cell_type": "code",
   "execution_count": 11,
   "metadata": {},
   "outputs": [],
   "source": [
    "# Determine number of graphs to explore\n",
    "# by setting number of vertices and random seeds\n",
    "\n",
    "df = pd.read_csv(\"csv_files/model_one_desired_avg_deg.csv\")\n",
    "df = df[[\"num_vertices\", \"rand_seed\"]].drop_duplicates()\n",
    "\n",
    "new_vert = [200, 400, 600, 800, 1000, 1400, 1800]\n",
    "for vert in new_vert:\n",
    "    for seed in df[\"rand_seed\"].unique()[0:3]:\n",
    "        new_row = pd.DataFrame([{'num_vertices': vert, 'rand_seed': seed}])\n",
    "        df = pd.concat([df, new_row], ignore_index=True)"
   ]
  },
  {
   "cell_type": "code",
   "execution_count": 12,
   "metadata": {},
   "outputs": [],
   "source": [
    "# Get values for characteristics of the graphs\n",
    "\n",
    "planar = []\n",
    "connected = []\n",
    "avg_deg = []\n",
    "median_deg = []\n",
    "max_deg = []\n",
    "\n",
    "# Spanning tree information\n",
    "num_nodes = []\n",
    "tree_const = []\n",
    "log_trees = []\n",
    "\n",
    "for index, row in df.iterrows():\n",
    "    n = int(row[\"num_vertices\"])\n",
    "    rs = int(row[\"rand_seed\"])\n",
    "    \n",
    "    # CHOOSE MODEL\n",
    "    model = \"12\"\n",
    "    G = models.model_eight_order_switched(n, rs)\n",
    "\n",
    "    # Planar?\n",
    "    planar.append(nx.check_planarity(G)[0])\n",
    "    \n",
    "    # Connected?\n",
    "    connected.append(nx.is_connected(G))\n",
    "\n",
    "    # Calculate avg degree of graph\n",
    "    avg_deg.append(2 * G.number_of_edges() / G.number_of_nodes())\n",
    "    \n",
    "    # Calculate median degree of graph\n",
    "    degrees = sorted([degree for _, degree in G.degree()], reverse=False)\n",
    "    median_deg.append(median(degrees))\n",
    "\n",
    "    # Calculate max degree\n",
    "    max_deg.append(max_degree(G))\n",
    "    \n",
    "    # calculate graph Laplacian\n",
    "    # print(f'calculating model {model}:', n, rs)\n",
    "    Lap = nx.laplacian_matrix(G).toarray()\n",
    "    T = np.delete(Lap,1,0)\n",
    "    T = np.delete(T,1,1)\n",
    "    (sign, logabsdet) = slogdet(T)\n",
    "    if (sign == 1):\n",
    "        tree_const.append(logabsdet/n)\n",
    "        num_nodes.append(n)\n",
    "        log_trees.append(logabsdet)\n",
    "\n",
    "model_df = df.assign(planar=planar, connected=connected, \n",
    "                            avg_deg=avg_deg, median_deg=median_deg, max_deg=max_deg)"
   ]
  },
  {
   "cell_type": "code",
   "execution_count": 14,
   "metadata": {},
   "outputs": [
    {
     "data": {
      "text/plain": [
       "planar         0.00\n",
       "connected      1.00\n",
       "avg_deg        5.45\n",
       "median_deg     5.39\n",
       "max_deg       10.50\n",
       "avg_st_con     1.44\n",
       "dtype: float64"
      ]
     },
     "execution_count": 14,
     "metadata": {},
     "output_type": "execute_result"
    }
   ],
   "source": [
    "# Calculate the average of planar, connected, median_deg, max_deg\n",
    "columns_avg = model_df[['planar', 'connected', 'avg_deg', 'median_deg', 'max_deg']].mean()\n",
    "columns_avg[\"avg_st_con\"] = st_cons=np.mean(tree_const)\n",
    "columns_avg.round(2)"
   ]
  },
  {
   "cell_type": "code",
   "execution_count": 15,
   "metadata": {},
   "outputs": [],
   "source": [
    "# For real world data:\n",
    "# avg deg 5.4\n",
    "# st con 1.33"
   ]
  }
 ],
 "metadata": {
  "kernelspec": {
   "display_name": "polidist",
   "language": "python",
   "name": "python3"
  },
  "language_info": {
   "codemirror_mode": {
    "name": "ipython",
    "version": 3
   },
   "file_extension": ".py",
   "mimetype": "text/x-python",
   "name": "python",
   "nbconvert_exporter": "python",
   "pygments_lexer": "ipython3",
   "version": "3.11.9"
  }
 },
 "nbformat": 4,
 "nbformat_minor": 2
}
