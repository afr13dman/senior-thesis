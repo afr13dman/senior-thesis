{
 "cells": [
  {
   "cell_type": "code",
   "execution_count": 1,
   "metadata": {},
   "outputs": [],
   "source": [
    "import pandas as pd"
   ]
  },
  {
   "cell_type": "markdown",
   "metadata": {},
   "source": [
    "Using `avg_median_degree.py`, I found the avg degree and median degree for each state at tract and block group level. Now I want to find the average of each of those for each dataset level."
   ]
  },
  {
   "cell_type": "code",
   "execution_count": 2,
   "metadata": {},
   "outputs": [],
   "source": [
    "# Import track degree data\n",
    "t_deg_data = pd.read_csv(\"t_avg_median_deg.csv\")\n",
    "\n",
    "# Import block group degree data\n",
    "bg_deg_data = pd.read_csv(\"bg_avg_median_deg.csv\")"
   ]
  },
  {
   "cell_type": "code",
   "execution_count": 5,
   "metadata": {},
   "outputs": [],
   "source": [
    "avg_info = []\n",
    "\n",
    "for map_type, df in [['t', t_deg_data], ['bg', bg_deg_data]]:\n",
    "    # Get average of states planarity\n",
    "    avg_1 = round(df['Planar'].mean(), 2)\n",
    "\n",
    "    # Get average of states connectedness\n",
    "    avg_2 = round(df['Connected'].mean(), 2)\n",
    "\n",
    "    # Get average of states avg degrees\n",
    "    avg_3 = round(df['Avg Degree'].mean(), 2)\n",
    "\n",
    "    # Get average of states median degrees\n",
    "    avg_4 = round(df['Median Degree'].mean(), 2)\n",
    "\n",
    "    # Get average of states median degrees\n",
    "    avg_5 = round(df['Max Degree'].mean(), 2)\n",
    "\n",
    "    # map_type = re.search(r\"^.*?_\", state_file)\n",
    "    avg_info.append([map_type, avg_1, avg_2, avg_3, avg_4, avg_5])\n",
    "    \n",
    "df = pd.DataFrame(avg_info, columns=['Map Type', 'Avg Planarity', 'Avg Connectedness', \n",
    "                                     'Avg of Avg Degrees', 'Avg of Median Degrees', 'Avg of Max Degrees'])"
   ]
  },
  {
   "cell_type": "code",
   "execution_count": 6,
   "metadata": {},
   "outputs": [
    {
     "data": {
      "text/html": [
       "<div>\n",
       "<style scoped>\n",
       "    .dataframe tbody tr th:only-of-type {\n",
       "        vertical-align: middle;\n",
       "    }\n",
       "\n",
       "    .dataframe tbody tr th {\n",
       "        vertical-align: top;\n",
       "    }\n",
       "\n",
       "    .dataframe thead th {\n",
       "        text-align: right;\n",
       "    }\n",
       "</style>\n",
       "<table border=\"1\" class=\"dataframe\">\n",
       "  <thead>\n",
       "    <tr style=\"text-align: right;\">\n",
       "      <th></th>\n",
       "      <th>Map Type</th>\n",
       "      <th>Avg Planarity</th>\n",
       "      <th>Avg Connectedness</th>\n",
       "      <th>Avg of Avg Degrees</th>\n",
       "      <th>Avg of Median Degrees</th>\n",
       "      <th>Avg of Max Degrees</th>\n",
       "    </tr>\n",
       "  </thead>\n",
       "  <tbody>\n",
       "    <tr>\n",
       "      <th>0</th>\n",
       "      <td>t</td>\n",
       "      <td>0.74</td>\n",
       "      <td>0.89</td>\n",
       "      <td>5.40</td>\n",
       "      <td>5.0</td>\n",
       "      <td>21.00</td>\n",
       "    </tr>\n",
       "    <tr>\n",
       "      <th>1</th>\n",
       "      <td>bg</td>\n",
       "      <td>0.70</td>\n",
       "      <td>0.89</td>\n",
       "      <td>5.44</td>\n",
       "      <td>5.0</td>\n",
       "      <td>27.57</td>\n",
       "    </tr>\n",
       "  </tbody>\n",
       "</table>\n",
       "</div>"
      ],
      "text/plain": [
       "  Map Type  Avg Planarity  Avg Connectedness  Avg of Avg Degrees  \\\n",
       "0        t           0.74               0.89                5.40   \n",
       "1       bg           0.70               0.89                5.44   \n",
       "\n",
       "   Avg of Median Degrees  Avg of Max Degrees  \n",
       "0                    5.0               21.00  \n",
       "1                    5.0               27.57  "
      ]
     },
     "execution_count": 6,
     "metadata": {},
     "output_type": "execute_result"
    }
   ],
   "source": [
    "df"
   ]
  },
  {
   "cell_type": "markdown",
   "metadata": {},
   "source": [
    "Aim for 5.4 avg degree in my models."
   ]
  },
  {
   "cell_type": "code",
   "execution_count": 10,
   "metadata": {},
   "outputs": [
    {
     "data": {
      "text/plain": [
       "Avg Planarity             0.72\n",
       "Avg Connectedness         0.89\n",
       "Avg of Avg Degrees        5.42\n",
       "Avg of Median Degrees     5.00\n",
       "Avg of Max Degrees       24.28\n",
       "dtype: float64"
      ]
     },
     "execution_count": 10,
     "metadata": {},
     "output_type": "execute_result"
    }
   ],
   "source": [
    "# Overall average\n",
    "round(df[['Avg Planarity', 'Avg Connectedness', \n",
    "        'Avg of Avg Degrees', 'Avg of Median Degrees', 'Avg of Max Degrees']].mean(), 2)"
   ]
  }
 ],
 "metadata": {
  "kernelspec": {
   "display_name": "polidist",
   "language": "python",
   "name": "python3"
  },
  "language_info": {
   "codemirror_mode": {
    "name": "ipython",
    "version": 3
   },
   "file_extension": ".py",
   "mimetype": "text/x-python",
   "name": "python",
   "nbconvert_exporter": "python",
   "pygments_lexer": "ipython3",
   "version": "3.11.9"
  }
 },
 "nbformat": 4,
 "nbformat_minor": 2
}
