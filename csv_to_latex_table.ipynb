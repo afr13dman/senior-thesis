{
 "cells": [
  {
   "cell_type": "markdown",
   "metadata": {},
   "source": [
    "# Convert csv file to a latex file\n",
    "This python notebook takes csv file and converts it into a latex file."
   ]
  },
  {
   "cell_type": "code",
   "execution_count": 1,
   "metadata": {},
   "outputs": [
    {
     "name": "stdout",
     "output_type": "stream",
     "text": [
      "\\begin{tabular}{lrrrrrr}\n",
      "\\toprule\n",
      "Model_Type & planar & connected & avg_deg & median_deg & max_deg & avg_st_con \\\\\n",
      "\\midrule\n",
      "Real Data & 0.72 & 0.89 & 5.42 & 5.00 & 24.28 & 1.43 \\\\\n",
      "2 & 0.00 & 1.00 & 5.60 & 5.41 & 11.18 & 1.19 \\\\\n",
      "3 & 1.00 & 0.90 & 5.57 & 5.56 & 9.66 & 4.29 \\\\\n",
      "4 & 1.00 & 1.00 & 3.60 & 3.64 & 7.49 & 2.46 \\\\\n",
      "4b & 1.00 & 1.00 & 2.37 & 2.13 & 5.63 & 1.25 \\\\\n",
      "5 & 0.00 & 1.00 & 19.11 & 19.00 & 29.71 & 2.21 \\\\\n",
      "5b & 0.07 & 1.00 & 17.73 & 17.60 & 28.03 & 1.95 \\\\\n",
      "6 & 0.00 & 1.00 & 7.57 & 7.50 & 13.08 & 6.02 \\\\\n",
      "7 & 0.00 & 1.00 & 6.17 & 5.93 & 12.29 & 4.10 \\\\\n",
      "8 & 0.00 & 1.00 & 5.49 & 5.40 & 10.16 & 1.45 \\\\\n",
      "9 & 0.00 & 1.00 & 5.57 & 5.53 & 10.17 & 4.20 \\\\\n",
      "9b & 0.02 & 1.00 & 4.08 & 3.93 & 8.31 & 2.73 \\\\\n",
      "10 & 0.00 & 1.00 & 6.01 & 5.80 & 11.42 & 4.56 \\\\\n",
      "10b & 0.00 & 1.00 & 4.55 & 4.58 & 9.61 & 3.21 \\\\\n",
      "11 & 0.00 & 1.00 & 5.48 & 5.27 & 11.73 & 1.27 \\\\\n",
      "11b & 0.00 & 1.00 & 5.44 & 5.21 & 11.93 & 1.30 \\\\\n",
      "11c & 0.00 & 1.00 & 5.48 & 5.25 & 12.20 & 1.36 \\\\\n",
      "12 & 0.00 & 1.00 & 5.45 & 5.39 & 10.50 & 1.44 \\\\\n",
      "\\bottomrule\n",
      "\\end{tabular}\n",
      "\n"
     ]
    }
   ],
   "source": [
    "import pandas as pd\n",
    "\n",
    "if False:\n",
    "    # Read CSV file\n",
    "    df = pd.read_csv(\"csv_files/model_one_desired_avg_deg.csv\")\n",
    "\n",
    "    # Convert to LaTeX\n",
    "    latex_table = df.to_latex(index=False, float_format=\"%.2f\".__mod__)  # Set index=True if you want row indices\n",
    "\n",
    "    # Save to file or print\n",
    "    with open(\"tex_files/model_one_table.tex\", \"w\") as f:\n",
    "        f.write(latex_table)\n",
    "\n",
    "if True:\n",
    "    # Read CSV file\n",
    "    df = pd.read_csv(\"csv_files/model_avgs_st_cons.csv\")\n",
    "\n",
    "    # Convert to LaTeX\n",
    "    latex_table = df.to_latex(index=False, float_format=\"%.2f\".__mod__)  # Set index=True if you want row indices\n",
    "\n",
    "    # Save to file or print\n",
    "    with open(\"tex_files/model_avgs.tex\", \"w\") as f:\n",
    "        f.write(latex_table)\n",
    "\n",
    "print(latex_table)"
   ]
  }
 ],
 "metadata": {
  "kernelspec": {
   "display_name": "polidist",
   "language": "python",
   "name": "python3"
  },
  "language_info": {
   "codemirror_mode": {
    "name": "ipython",
    "version": 3
   },
   "file_extension": ".py",
   "mimetype": "text/x-python",
   "name": "python",
   "nbconvert_exporter": "python",
   "pygments_lexer": "ipython3",
   "version": "3.11.9"
  }
 },
 "nbformat": 4,
 "nbformat_minor": 2
}
