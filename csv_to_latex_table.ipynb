{
 "cells": [
  {
   "cell_type": "code",
   "execution_count": 2,
   "metadata": {},
   "outputs": [
    {
     "name": "stdout",
     "output_type": "stream",
     "text": [
      "\\begin{tabular}{lrrrrr}\n",
      "\\toprule\n",
      "Model_Type & planar & connected & avg_deg & median_deg & max_deg \\\\\n",
      "\\midrule\n",
      "2 & 0.00 & 1.00 & 5.60 & 5.41 & 11.18 \\\\\n",
      "3 & 1.00 & 0.90 & 5.57 & 5.56 & 9.66 \\\\\n",
      "4 & 1.00 & 1.00 & 3.60 & 3.64 & 7.49 \\\\\n",
      "4b & 1.00 & 1.00 & 2.37 & 2.13 & 5.63 \\\\\n",
      "5 & 0.00 & 1.00 & 19.11 & 19.00 & 29.71 \\\\\n",
      "5b & 0.07 & 1.00 & 17.73 & 17.60 & 28.03 \\\\\n",
      "6 & 0.00 & 1.00 & 7.57 & 7.50 & 13.08 \\\\\n",
      "7 & 0.00 & 1.00 & 6.17 & 5.93 & 12.29 \\\\\n",
      "8 & 0.00 & 1.00 & 5.49 & 5.40 & 10.16 \\\\\n",
      "9 & 0.00 & 1.00 & 5.57 & 5.53 & 10.17 \\\\\n",
      "9b & 0.02 & 1.00 & 4.08 & 3.93 & 8.31 \\\\\n",
      "10 & 0.00 & 1.00 & 6.01 & 5.80 & 11.42 \\\\\n",
      "10b & 0.00 & 1.00 & 4.55 & 4.58 & 9.61 \\\\\n",
      "11 & 0.00 & 1.00 & 5.48 & 5.29 & 11.37 \\\\\n",
      "11b & 0.00 & 1.00 & 5.43 & 5.23 & 11.59 \\\\\n",
      "11c & 0.00 & 1.00 & 5.46 & 5.24 & 11.90 \\\\\n",
      "\\bottomrule\n",
      "\\end{tabular}\n",
      "\n"
     ]
    }
   ],
   "source": [
    "import pandas as pd\n",
    "\n",
    "# Read CSV file\n",
    "#df = pd.read_csv(\"model_one_desired_avg_deg.csv\")\n",
    "df = pd.read_csv(\"model_avgs.csv\")\n",
    "df.rename( columns={'Unnamed: 0':'Model_Type'}, inplace=True )\n",
    "df[\"Model_Type\"] = df[\"Model_Type\"].str.replace(\"Model\", \"\").str.strip()\n",
    "\n",
    "# Convert to LaTeX\n",
    "latex_table = df.to_latex(index=False, float_format=\"%.2f\".__mod__)  # Set index=True if you want row indices\n",
    "\n",
    "# Save to file or print\n",
    "# with open(\"model_one_table.tex\", \"w\") as f:\n",
    "#     f.write(latex_table)\n",
    "with open(\"model_avgs.tex\", \"w\") as f:\n",
    "    f.write(latex_table)\n",
    "\n",
    "print(latex_table)"
   ]
  }
 ],
 "metadata": {
  "kernelspec": {
   "display_name": "polidist",
   "language": "python",
   "name": "python3"
  },
  "language_info": {
   "codemirror_mode": {
    "name": "ipython",
    "version": 3
   },
   "file_extension": ".py",
   "mimetype": "text/x-python",
   "name": "python",
   "nbconvert_exporter": "python",
   "pygments_lexer": "ipython3",
   "version": "3.11.9"
  }
 },
 "nbformat": 4,
 "nbformat_minor": 2
}
